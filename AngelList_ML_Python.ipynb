{
 "cells": [
  {
   "cell_type": "code",
   "execution_count": 1,
   "metadata": {
    "collapsed": false
   },
   "outputs": [],
   "source": [
    "from urllib import urlencode\n",
    "import urllib2\n",
    "import json\n",
    "import requests\n",
    "import pandas as pd\n",
    "import matplotlib.pyplot as plt\n",
    "import numpy as np"
   ]
  },
  {
   "cell_type": "markdown",
   "metadata": {},
   "source": [
    "# #The individual frame; first page of startups on angellist site"
   ]
  },
  {
   "cell_type": "code",
   "execution_count": 2,
   "metadata": {
    "collapsed": false
   },
   "outputs": [],
   "source": [
    "#loop through pages(here two) and extract the startups/individ fields info and add to DF;\n",
    "#does not matter what page it comes from\n",
    "urls = 'https://api.angel.co/1/startups?filter=raising&page='\n",
    "fields = ['id','name','created_at','high_concept','quality','updated_at','company_url',\n",
    "          'video_url','twitter_url','linkedin_url','facebook_url','thumb_url','blog_url',\n",
    "          'community_profile','product_desc','launch_date','hidden','follower_count',\n",
    "          'angellist_url',\n",
    "          'logo_url','company_size']\n",
    "l=list()\n",
    "for i in range(1,2):\n",
    "    r = requests.get(urls+str(i))\n",
    "    t = r.json()\n",
    "    startups = t['startups']\n",
    "    for j in range(0,len(startups)):\n",
    "        comp = startups[j]\n",
    "        l.append(comp)\n",
    "indiv = pd.DataFrame(l,columns = fields)\n",
    "         \n",
    "#this works perfectly\n",
    "#same thing for the composed fields dataframes,\n",
    "#uniquely identified by company field and name"
   ]
  },
  {
   "cell_type": "code",
   "execution_count": 6,
   "metadata": {
    "collapsed": false
   },
   "outputs": [],
   "source": [
    "#Now get the fundraising data frame"
   ]
  },
  {
   "cell_type": "code",
   "execution_count": null,
   "metadata": {
    "collapsed": false
   },
   "outputs": [],
   "source": [
    "urls = 'https://api.angel.co/1/startups?filter=raising&page='\n",
    "l=list()\n",
    "for i in range(1,9):\n",
    "    r = requests.get(urls+str(i))\n",
    "    t = r.json()\n",
    "    startups = t['startups']\n",
    "    for j in range(0,len(startups)):\n",
    "        comp = startups[j]\n",
    "        d = comp['fundraising']\n",
    "        d['name']=comp['name']\n",
    "        d['id']=comp['id']\n",
    "        l.append(d)\n",
    "fund = pd.DataFrame(l)\n",
    "#this works very well in a minute or so to extract the fundraising dataframe"
   ]
  },
  {
   "cell_type": "code",
   "execution_count": 289,
   "metadata": {
    "collapsed": false
   },
   "outputs": [
    {
     "data": {
      "text/plain": [
       "(400, 10)"
      ]
     },
     "execution_count": 289,
     "metadata": {},
     "output_type": "execute_result"
    }
   ],
   "source": [
    "fund.shape"
   ]
  },
  {
   "cell_type": "code",
   "execution_count": 189,
   "metadata": {
    "collapsed": false
   },
   "outputs": [
    {
     "data": {
      "text/plain": [
       "Index([u'id', u'name', u'created_at', u'high_concept', u'quality', u'updated_at', u'company_url', u'video_url', u'twitter_url', u'linkedin_url', u'facebook_url', u'thumb_url', u'blog_url', u'community_profile', u'product_desc', u'launch_date', u'hidden', u'follower_count', u'angellist_url', u'logo_url', u'company_size'], dtype='object')"
      ]
     },
     "execution_count": 189,
     "metadata": {},
     "output_type": "execute_result"
    }
   ],
   "source": [
    "indiv.columns"
   ]
  },
  {
   "cell_type": "code",
   "execution_count": 288,
   "metadata": {
    "collapsed": false
   },
   "outputs": [
    {
     "data": {
      "text/plain": [
       "(400, 21)"
      ]
     },
     "execution_count": 288,
     "metadata": {},
     "output_type": "execute_result"
    }
   ],
   "source": [
    "indiv.shape"
   ]
  },
  {
   "cell_type": "code",
   "execution_count": 191,
   "metadata": {
    "collapsed": false
   },
   "outputs": [
    {
     "data": {
      "text/html": [
       "<div style=\"max-height:1000px;max-width:1500px;overflow:auto;\">\n",
       "<table border=\"1\" class=\"dataframe\">\n",
       "  <thead>\n",
       "    <tr style=\"text-align: right;\">\n",
       "      <th></th>\n",
       "      <th>id</th>\n",
       "      <th>name</th>\n",
       "      <th>created_at</th>\n",
       "      <th>high_concept</th>\n",
       "      <th>quality</th>\n",
       "      <th>updated_at</th>\n",
       "      <th>company_url</th>\n",
       "      <th>video_url</th>\n",
       "      <th>twitter_url</th>\n",
       "      <th>linkedin_url</th>\n",
       "      <th>...</th>\n",
       "      <th>thumb_url</th>\n",
       "      <th>blog_url</th>\n",
       "      <th>community_profile</th>\n",
       "      <th>product_desc</th>\n",
       "      <th>launch_date</th>\n",
       "      <th>hidden</th>\n",
       "      <th>follower_count</th>\n",
       "      <th>angellist_url</th>\n",
       "      <th>logo_url</th>\n",
       "      <th>company_size</th>\n",
       "    </tr>\n",
       "  </thead>\n",
       "  <tbody>\n",
       "    <tr>\n",
       "      <th>0</th>\n",
       "      <td> 389582</td>\n",
       "      <td>     CoffeetheApp</td>\n",
       "      <td> 2014-04-29T20:07:33Z</td>\n",
       "      <td>                  Professional Networking for Jobs</td>\n",
       "      <td> 4</td>\n",
       "      <td> 2014-12-16T17:08:52Z</td>\n",
       "      <td>            http://coffeetheapp.com</td>\n",
       "      <td>       https://www.youtube.com/watch?v=4ShUlSzxwWg</td>\n",
       "      <td> https://twitter.com/coffeetheapp</td>\n",
       "      <td> https://www.linkedin.com/company/5078073?trk=p...</td>\n",
       "      <td>...</td>\n",
       "      <td> https://d1qb2nb5cznatu.cloudfront.net/startups...</td>\n",
       "      <td>                               </td>\n",
       "      <td> False</td>\n",
       "      <td> Coffeetheapp is a mobile community of hiring m...</td>\n",
       "      <td> 2014-07-01</td>\n",
       "      <td> False</td>\n",
       "      <td> 48</td>\n",
       "      <td>     https://angel.co/coffeetheapp</td>\n",
       "      <td> https://d1qb2nb5cznatu.cloudfront.net/startups...</td>\n",
       "      <td> 1-10</td>\n",
       "    </tr>\n",
       "    <tr>\n",
       "      <th>1</th>\n",
       "      <td> 293071</td>\n",
       "      <td>     Wear My Tags</td>\n",
       "      <td> 2013-11-11T23:09:59Z</td>\n",
       "      <td>                       Fashion Sourcing Made Easy!</td>\n",
       "      <td> 6</td>\n",
       "      <td> 2014-12-17T05:38:42Z</td>\n",
       "      <td> http://wearmytags.com/development/</td>\n",
       "      <td> https://www.youtube.com/watch?v=44Xj8bRnoWA&amp;fe...</td>\n",
       "      <td>   https://twitter.com/WearMyTags</td>\n",
       "      <td>                                                  </td>\n",
       "      <td>...</td>\n",
       "      <td> https://d1qb2nb5cznatu.cloudfront.net/startups...</td>\n",
       "      <td>                               </td>\n",
       "      <td> False</td>\n",
       "      <td> WearMyTags.com solves the fashion/apparel indu...</td>\n",
       "      <td> 2014-07-01</td>\n",
       "      <td> False</td>\n",
       "      <td> 97</td>\n",
       "      <td>     https://angel.co/wear-my-tags</td>\n",
       "      <td> https://d1qb2nb5cznatu.cloudfront.net/startups...</td>\n",
       "      <td> 1-10</td>\n",
       "    </tr>\n",
       "    <tr>\n",
       "      <th>2</th>\n",
       "      <td> 235684</td>\n",
       "      <td> The Cherry Share</td>\n",
       "      <td> 2013-07-17T11:31:00Z</td>\n",
       "      <td> your way to find the healthiest and best price...</td>\n",
       "      <td> 5</td>\n",
       "      <td> 2014-12-17T01:51:15Z</td>\n",
       "      <td>     http://www.thecherryshare.com/</td>\n",
       "      <td> http://www.youtube.com/watch?v=8QJQ9F8atOQ&amp;fea...</td>\n",
       "      <td>       http://twitter.com/foodlve</td>\n",
       "      <td>                                                  </td>\n",
       "      <td>...</td>\n",
       "      <td> https://d1qb2nb5cznatu.cloudfront.net/startups...</td>\n",
       "      <td> http://www.thecherryshare.com/</td>\n",
       "      <td> False</td>\n",
       "      <td> The Cherry Share is a mobile and web applicati...</td>\n",
       "      <td> 2012-06-01</td>\n",
       "      <td> False</td>\n",
       "      <td> 36</td>\n",
       "      <td> https://angel.co/the-cherry-share</td>\n",
       "      <td> https://d1qb2nb5cznatu.cloudfront.net/startups...</td>\n",
       "      <td> 1-10</td>\n",
       "    </tr>\n",
       "    <tr>\n",
       "      <th>3</th>\n",
       "      <td> 144128</td>\n",
       "      <td>      Vidinterest</td>\n",
       "      <td> 2012-12-05T11:47:08Z</td>\n",
       "      <td>      Online Video Discovery &amp; Promotion Platform </td>\n",
       "      <td> 4</td>\n",
       "      <td> 2014-12-12T19:54:29Z</td>\n",
       "      <td>              http://vidinterest.tv</td>\n",
       "      <td>                                                  </td>\n",
       "      <td>   http://twitter.com/vidinterest</td>\n",
       "      <td>                                                  </td>\n",
       "      <td>...</td>\n",
       "      <td> https://d1qb2nb5cznatu.cloudfront.net/startups...</td>\n",
       "      <td>    http://blog.vidinterest.com</td>\n",
       "      <td> False</td>\n",
       "      <td> Vidinterest lets you discover and create priva...</td>\n",
       "      <td> 2012-06-01</td>\n",
       "      <td> False</td>\n",
       "      <td> 19</td>\n",
       "      <td>      https://angel.co/vidinterest</td>\n",
       "      <td> https://d1qb2nb5cznatu.cloudfront.net/startups...</td>\n",
       "      <td> 1-10</td>\n",
       "    </tr>\n",
       "    <tr>\n",
       "      <th>4</th>\n",
       "      <td> 355204</td>\n",
       "      <td>   UberOnTime.com</td>\n",
       "      <td> 2014-03-05T18:58:10Z</td>\n",
       "      <td>                                 On Demand Postman</td>\n",
       "      <td> 4</td>\n",
       "      <td> 2014-12-11T16:16:46Z</td>\n",
       "      <td>              http://uberontime.com</td>\n",
       "      <td>                                                  </td>\n",
       "      <td>    http://twitter.com/uberontime</td>\n",
       "      <td>                                                  </td>\n",
       "      <td>...</td>\n",
       "      <td> https://d1qb2nb5cznatu.cloudfront.net/startups...</td>\n",
       "      <td>     http://uberontime.com/blog</td>\n",
       "      <td> False</td>\n",
       "      <td> On-demand postman delivers packages locally.  ...</td>\n",
       "      <td> 2014-06-01</td>\n",
       "      <td> False</td>\n",
       "      <td>  5</td>\n",
       "      <td>   https://angel.co/uberontime-com</td>\n",
       "      <td> https://d1qb2nb5cznatu.cloudfront.net/startups...</td>\n",
       "      <td> 1-10</td>\n",
       "    </tr>\n",
       "  </tbody>\n",
       "</table>\n",
       "<p>5 rows × 21 columns</p>\n",
       "</div>"
      ],
      "text/plain": [
       "       id              name            created_at  \\\n",
       "0  389582      CoffeetheApp  2014-04-29T20:07:33Z   \n",
       "1  293071      Wear My Tags  2013-11-11T23:09:59Z   \n",
       "2  235684  The Cherry Share  2013-07-17T11:31:00Z   \n",
       "3  144128       Vidinterest  2012-12-05T11:47:08Z   \n",
       "4  355204    UberOnTime.com  2014-03-05T18:58:10Z   \n",
       "\n",
       "                                        high_concept  quality  \\\n",
       "0                   Professional Networking for Jobs        4   \n",
       "1                        Fashion Sourcing Made Easy!        6   \n",
       "2  your way to find the healthiest and best price...        5   \n",
       "3       Online Video Discovery & Promotion Platform         4   \n",
       "4                                  On Demand Postman        4   \n",
       "\n",
       "             updated_at                         company_url  \\\n",
       "0  2014-12-16T17:08:52Z             http://coffeetheapp.com   \n",
       "1  2014-12-17T05:38:42Z  http://wearmytags.com/development/   \n",
       "2  2014-12-17T01:51:15Z      http://www.thecherryshare.com/   \n",
       "3  2014-12-12T19:54:29Z               http://vidinterest.tv   \n",
       "4  2014-12-11T16:16:46Z               http://uberontime.com   \n",
       "\n",
       "                                           video_url  \\\n",
       "0        https://www.youtube.com/watch?v=4ShUlSzxwWg   \n",
       "1  https://www.youtube.com/watch?v=44Xj8bRnoWA&fe...   \n",
       "2  http://www.youtube.com/watch?v=8QJQ9F8atOQ&fea...   \n",
       "3                                                      \n",
       "4                                                      \n",
       "\n",
       "                        twitter_url  \\\n",
       "0  https://twitter.com/coffeetheapp   \n",
       "1    https://twitter.com/WearMyTags   \n",
       "2        http://twitter.com/foodlve   \n",
       "3    http://twitter.com/vidinterest   \n",
       "4     http://twitter.com/uberontime   \n",
       "\n",
       "                                        linkedin_url  \\\n",
       "0  https://www.linkedin.com/company/5078073?trk=p...   \n",
       "1                                                      \n",
       "2                                                      \n",
       "3                                                      \n",
       "4                                                      \n",
       "\n",
       "                         ...                          \\\n",
       "0                        ...                           \n",
       "1                        ...                           \n",
       "2                        ...                           \n",
       "3                        ...                           \n",
       "4                        ...                           \n",
       "\n",
       "                                           thumb_url  \\\n",
       "0  https://d1qb2nb5cznatu.cloudfront.net/startups...   \n",
       "1  https://d1qb2nb5cznatu.cloudfront.net/startups...   \n",
       "2  https://d1qb2nb5cznatu.cloudfront.net/startups...   \n",
       "3  https://d1qb2nb5cznatu.cloudfront.net/startups...   \n",
       "4  https://d1qb2nb5cznatu.cloudfront.net/startups...   \n",
       "\n",
       "                         blog_url community_profile  \\\n",
       "0                                             False   \n",
       "1                                             False   \n",
       "2  http://www.thecherryshare.com/             False   \n",
       "3     http://blog.vidinterest.com             False   \n",
       "4      http://uberontime.com/blog             False   \n",
       "\n",
       "                                        product_desc launch_date hidden  \\\n",
       "0  Coffeetheapp is a mobile community of hiring m...  2014-07-01  False   \n",
       "1  WearMyTags.com solves the fashion/apparel indu...  2014-07-01  False   \n",
       "2  The Cherry Share is a mobile and web applicati...  2012-06-01  False   \n",
       "3  Vidinterest lets you discover and create priva...  2012-06-01  False   \n",
       "4  On-demand postman delivers packages locally.  ...  2014-06-01  False   \n",
       "\n",
       "  follower_count                      angellist_url  \\\n",
       "0             48      https://angel.co/coffeetheapp   \n",
       "1             97      https://angel.co/wear-my-tags   \n",
       "2             36  https://angel.co/the-cherry-share   \n",
       "3             19       https://angel.co/vidinterest   \n",
       "4              5    https://angel.co/uberontime-com   \n",
       "\n",
       "                                            logo_url company_size  \n",
       "0  https://d1qb2nb5cznatu.cloudfront.net/startups...         1-10  \n",
       "1  https://d1qb2nb5cznatu.cloudfront.net/startups...         1-10  \n",
       "2  https://d1qb2nb5cznatu.cloudfront.net/startups...         1-10  \n",
       "3  https://d1qb2nb5cznatu.cloudfront.net/startups...         1-10  \n",
       "4  https://d1qb2nb5cznatu.cloudfront.net/startups...         1-10  \n",
       "\n",
       "[5 rows x 21 columns]"
      ]
     },
     "execution_count": 191,
     "metadata": {},
     "output_type": "execute_result"
    }
   ],
   "source": [
    "indiv.head()"
   ]
  },
  {
   "cell_type": "code",
   "execution_count": 28,
   "metadata": {
    "collapsed": false
   },
   "outputs": [],
   "source": [
    "#create new variables in indiv df based on presence or absence of links"
   ]
  },
  {
   "cell_type": "code",
   "execution_count": 290,
   "metadata": {
    "collapsed": false
   },
   "outputs": [],
   "source": [
    "indiv['website'] = (indiv['company_url'].fillna('')) != '' \n",
    "#this checks for Nan and none and blanks but not for incomplete or incorrect"
   ]
  },
  {
   "cell_type": "code",
   "execution_count": 117,
   "metadata": {
    "collapsed": false
   },
   "outputs": [],
   "source": [
    "#same check for facebook_url"
   ]
  },
  {
   "cell_type": "code",
   "execution_count": 291,
   "metadata": {
    "collapsed": false
   },
   "outputs": [],
   "source": [
    "indiv['facebook']= (indiv['facebook_url'].fillna('')) != ''"
   ]
  },
  {
   "cell_type": "code",
   "execution_count": 119,
   "metadata": {
    "collapsed": false
   },
   "outputs": [],
   "source": [
    "#check for linkedin link"
   ]
  },
  {
   "cell_type": "code",
   "execution_count": 292,
   "metadata": {
    "collapsed": false
   },
   "outputs": [],
   "source": [
    "indiv['linkedin'] = (indiv['linkedin_url'].fillna('')) != ''"
   ]
  },
  {
   "cell_type": "code",
   "execution_count": 124,
   "metadata": {
    "collapsed": false
   },
   "outputs": [],
   "source": [
    "#check for twitter link"
   ]
  },
  {
   "cell_type": "code",
   "execution_count": 293,
   "metadata": {
    "collapsed": false
   },
   "outputs": [],
   "source": [
    "indiv['twitter'] = (indiv['twitter_url'].fillna('')) != ''"
   ]
  },
  {
   "cell_type": "code",
   "execution_count": 294,
   "metadata": {
    "collapsed": false
   },
   "outputs": [],
   "source": [
    "indiv['blog'] = (indiv['blog_url'].fillna('')) != ''"
   ]
  },
  {
   "cell_type": "code",
   "execution_count": 140,
   "metadata": {
    "collapsed": false
   },
   "outputs": [],
   "source": [
    "#create new data frame with a combination of columns from indiv and fund; \n",
    "#first merge the two by company id;"
   ]
  },
  {
   "cell_type": "code",
   "execution_count": 295,
   "metadata": {
    "collapsed": false
   },
   "outputs": [],
   "source": [
    "df_merged = pd.merge(indiv,fund, on = 'id', how = 'outer')"
   ]
  },
  {
   "cell_type": "code",
   "execution_count": 296,
   "metadata": {
    "collapsed": false
   },
   "outputs": [
    {
     "data": {
      "text/plain": [
       "(400, 35)"
      ]
     },
     "execution_count": 296,
     "metadata": {},
     "output_type": "execute_result"
    }
   ],
   "source": [
    "df_merged.shape"
   ]
  },
  {
   "cell_type": "code",
   "execution_count": 297,
   "metadata": {
    "collapsed": false
   },
   "outputs": [
    {
     "data": {
      "text/html": [
       "<div style=\"max-height:1000px;max-width:1500px;overflow:auto;\">\n",
       "<table border=\"1\" class=\"dataframe\">\n",
       "  <thead>\n",
       "    <tr style=\"text-align: right;\">\n",
       "      <th></th>\n",
       "      <th>id</th>\n",
       "      <th>name_x</th>\n",
       "      <th>created_at</th>\n",
       "      <th>high_concept</th>\n",
       "      <th>quality</th>\n",
       "      <th>updated_at_x</th>\n",
       "      <th>company_url</th>\n",
       "      <th>video_url</th>\n",
       "      <th>twitter_url</th>\n",
       "      <th>linkedin_url</th>\n",
       "      <th>...</th>\n",
       "      <th>blog</th>\n",
       "      <th>discount</th>\n",
       "      <th>equity_basis</th>\n",
       "      <th>name_y</th>\n",
       "      <th>pre_money_valuation</th>\n",
       "      <th>public</th>\n",
       "      <th>raised_amount</th>\n",
       "      <th>raising_amount</th>\n",
       "      <th>round_opened_at</th>\n",
       "      <th>updated_at_y</th>\n",
       "    </tr>\n",
       "  </thead>\n",
       "  <tbody>\n",
       "    <tr>\n",
       "      <th>0</th>\n",
       "      <td> 389582</td>\n",
       "      <td>     CoffeetheApp</td>\n",
       "      <td> 2014-04-29T20:07:33Z</td>\n",
       "      <td>                  Professional Networking for Jobs</td>\n",
       "      <td> 4</td>\n",
       "      <td> 2014-12-16T17:08:52Z</td>\n",
       "      <td>            http://coffeetheapp.com</td>\n",
       "      <td>       https://www.youtube.com/watch?v=4ShUlSzxwWg</td>\n",
       "      <td> https://twitter.com/coffeetheapp</td>\n",
       "      <td> https://www.linkedin.com/company/5078073?trk=p...</td>\n",
       "      <td>...</td>\n",
       "      <td> False</td>\n",
       "      <td>NaN</td>\n",
       "      <td> equity</td>\n",
       "      <td>     CoffeetheApp</td>\n",
       "      <td> 3000000</td>\n",
       "      <td> True</td>\n",
       "      <td>     0</td>\n",
       "      <td> 250000</td>\n",
       "      <td> 2014-12-15</td>\n",
       "      <td> 2014-12-15T19:55:19Z</td>\n",
       "    </tr>\n",
       "    <tr>\n",
       "      <th>1</th>\n",
       "      <td> 293071</td>\n",
       "      <td>     Wear My Tags</td>\n",
       "      <td> 2013-11-11T23:09:59Z</td>\n",
       "      <td>                       Fashion Sourcing Made Easy!</td>\n",
       "      <td> 6</td>\n",
       "      <td> 2014-12-17T05:38:42Z</td>\n",
       "      <td> http://wearmytags.com/development/</td>\n",
       "      <td> https://www.youtube.com/watch?v=44Xj8bRnoWA&amp;fe...</td>\n",
       "      <td>   https://twitter.com/WearMyTags</td>\n",
       "      <td>                                                  </td>\n",
       "      <td>...</td>\n",
       "      <td> False</td>\n",
       "      <td>NaN</td>\n",
       "      <td> equity</td>\n",
       "      <td>     Wear My Tags</td>\n",
       "      <td>     NaN</td>\n",
       "      <td> True</td>\n",
       "      <td>     0</td>\n",
       "      <td> 750000</td>\n",
       "      <td> 2014-12-14</td>\n",
       "      <td> 2014-12-17T01:58:36Z</td>\n",
       "    </tr>\n",
       "    <tr>\n",
       "      <th>2</th>\n",
       "      <td> 235684</td>\n",
       "      <td> The Cherry Share</td>\n",
       "      <td> 2013-07-17T11:31:00Z</td>\n",
       "      <td> your way to find the healthiest and best price...</td>\n",
       "      <td> 5</td>\n",
       "      <td> 2014-12-17T01:51:15Z</td>\n",
       "      <td>     http://www.thecherryshare.com/</td>\n",
       "      <td> http://www.youtube.com/watch?v=8QJQ9F8atOQ&amp;fea...</td>\n",
       "      <td>       http://twitter.com/foodlve</td>\n",
       "      <td>                                                  </td>\n",
       "      <td>...</td>\n",
       "      <td>  True</td>\n",
       "      <td>NaN</td>\n",
       "      <td> equity</td>\n",
       "      <td> The Cherry Share</td>\n",
       "      <td> 3000000</td>\n",
       "      <td> True</td>\n",
       "      <td> 91000</td>\n",
       "      <td> 400000</td>\n",
       "      <td> 2014-12-14</td>\n",
       "      <td> 2014-12-14T06:20:03Z</td>\n",
       "    </tr>\n",
       "    <tr>\n",
       "      <th>3</th>\n",
       "      <td> 144128</td>\n",
       "      <td>      Vidinterest</td>\n",
       "      <td> 2012-12-05T11:47:08Z</td>\n",
       "      <td>      Online Video Discovery &amp; Promotion Platform </td>\n",
       "      <td> 4</td>\n",
       "      <td> 2014-12-12T19:54:29Z</td>\n",
       "      <td>              http://vidinterest.tv</td>\n",
       "      <td>                                                  </td>\n",
       "      <td>   http://twitter.com/vidinterest</td>\n",
       "      <td>                                                  </td>\n",
       "      <td>...</td>\n",
       "      <td>  True</td>\n",
       "      <td>NaN</td>\n",
       "      <td> equity</td>\n",
       "      <td>      Vidinterest</td>\n",
       "      <td> 1000000</td>\n",
       "      <td> True</td>\n",
       "      <td>     0</td>\n",
       "      <td> 100000</td>\n",
       "      <td> 2014-12-12</td>\n",
       "      <td> 2014-12-12T19:58:06Z</td>\n",
       "    </tr>\n",
       "    <tr>\n",
       "      <th>4</th>\n",
       "      <td> 355204</td>\n",
       "      <td>   UberOnTime.com</td>\n",
       "      <td> 2014-03-05T18:58:10Z</td>\n",
       "      <td>                                 On Demand Postman</td>\n",
       "      <td> 4</td>\n",
       "      <td> 2014-12-11T16:16:46Z</td>\n",
       "      <td>              http://uberontime.com</td>\n",
       "      <td>                                                  </td>\n",
       "      <td>    http://twitter.com/uberontime</td>\n",
       "      <td>                                                  </td>\n",
       "      <td>...</td>\n",
       "      <td>  True</td>\n",
       "      <td>NaN</td>\n",
       "      <td> equity</td>\n",
       "      <td>   UberOnTime.com</td>\n",
       "      <td> 1000000</td>\n",
       "      <td> True</td>\n",
       "      <td>     0</td>\n",
       "      <td> 100000</td>\n",
       "      <td> 2014-12-11</td>\n",
       "      <td> 2014-12-11T16:12:13Z</td>\n",
       "    </tr>\n",
       "  </tbody>\n",
       "</table>\n",
       "<p>5 rows × 35 columns</p>\n",
       "</div>"
      ],
      "text/plain": [
       "       id            name_x            created_at  \\\n",
       "0  389582      CoffeetheApp  2014-04-29T20:07:33Z   \n",
       "1  293071      Wear My Tags  2013-11-11T23:09:59Z   \n",
       "2  235684  The Cherry Share  2013-07-17T11:31:00Z   \n",
       "3  144128       Vidinterest  2012-12-05T11:47:08Z   \n",
       "4  355204    UberOnTime.com  2014-03-05T18:58:10Z   \n",
       "\n",
       "                                        high_concept  quality  \\\n",
       "0                   Professional Networking for Jobs        4   \n",
       "1                        Fashion Sourcing Made Easy!        6   \n",
       "2  your way to find the healthiest and best price...        5   \n",
       "3       Online Video Discovery & Promotion Platform         4   \n",
       "4                                  On Demand Postman        4   \n",
       "\n",
       "           updated_at_x                         company_url  \\\n",
       "0  2014-12-16T17:08:52Z             http://coffeetheapp.com   \n",
       "1  2014-12-17T05:38:42Z  http://wearmytags.com/development/   \n",
       "2  2014-12-17T01:51:15Z      http://www.thecherryshare.com/   \n",
       "3  2014-12-12T19:54:29Z               http://vidinterest.tv   \n",
       "4  2014-12-11T16:16:46Z               http://uberontime.com   \n",
       "\n",
       "                                           video_url  \\\n",
       "0        https://www.youtube.com/watch?v=4ShUlSzxwWg   \n",
       "1  https://www.youtube.com/watch?v=44Xj8bRnoWA&fe...   \n",
       "2  http://www.youtube.com/watch?v=8QJQ9F8atOQ&fea...   \n",
       "3                                                      \n",
       "4                                                      \n",
       "\n",
       "                        twitter_url  \\\n",
       "0  https://twitter.com/coffeetheapp   \n",
       "1    https://twitter.com/WearMyTags   \n",
       "2        http://twitter.com/foodlve   \n",
       "3    http://twitter.com/vidinterest   \n",
       "4     http://twitter.com/uberontime   \n",
       "\n",
       "                                        linkedin_url  \\\n",
       "0  https://www.linkedin.com/company/5078073?trk=p...   \n",
       "1                                                      \n",
       "2                                                      \n",
       "3                                                      \n",
       "4                                                      \n",
       "\n",
       "                         ...                           blog discount  \\\n",
       "0                        ...                          False      NaN   \n",
       "1                        ...                          False      NaN   \n",
       "2                        ...                           True      NaN   \n",
       "3                        ...                           True      NaN   \n",
       "4                        ...                           True      NaN   \n",
       "\n",
       "  equity_basis            name_y pre_money_valuation public raised_amount  \\\n",
       "0       equity      CoffeetheApp             3000000   True             0   \n",
       "1       equity      Wear My Tags                 NaN   True             0   \n",
       "2       equity  The Cherry Share             3000000   True         91000   \n",
       "3       equity       Vidinterest             1000000   True             0   \n",
       "4       equity    UberOnTime.com             1000000   True             0   \n",
       "\n",
       "   raising_amount round_opened_at          updated_at_y  \n",
       "0          250000      2014-12-15  2014-12-15T19:55:19Z  \n",
       "1          750000      2014-12-14  2014-12-17T01:58:36Z  \n",
       "2          400000      2014-12-14  2014-12-14T06:20:03Z  \n",
       "3          100000      2014-12-12  2014-12-12T19:58:06Z  \n",
       "4          100000      2014-12-11  2014-12-11T16:12:13Z  \n",
       "\n",
       "[5 rows x 35 columns]"
      ]
     },
     "execution_count": 297,
     "metadata": {},
     "output_type": "execute_result"
    }
   ],
   "source": [
    "df_merged.head()"
   ]
  },
  {
   "cell_type": "code",
   "execution_count": 201,
   "metadata": {
    "collapsed": false
   },
   "outputs": [
    {
     "data": {
      "text/plain": [
       "Index([u'id', u'name_x', u'created_at', u'high_concept', u'quality', u'updated_at_x', u'company_url', u'video_url', u'twitter_url', u'linkedin_url', u'facebook_url', u'thumb_url', u'blog_url', u'community_profile', u'product_desc', u'launch_date', u'hidden', u'follower_count', u'angellist_url', u'logo_url', u'company_size', u'website', u'facebook', u'linkedin', u'twitter', u'blog', u'discount', u'equity_basis', u'name_y', u'pre_money_valuation', u'public', u'raised_amount', u'raising_amount', u'round_opened_at', u'updated_at_y'], dtype='object')"
      ]
     },
     "execution_count": 201,
     "metadata": {},
     "output_type": "execute_result"
    }
   ],
   "source": [
    "df_merged.columns"
   ]
  },
  {
   "cell_type": "code",
   "execution_count": 145,
   "metadata": {
    "collapsed": false
   },
   "outputs": [],
   "source": [
    "#get the dataframe to be used for meetup analytics, visualiz and scikit learn"
   ]
  },
  {
   "cell_type": "code",
   "execution_count": 298,
   "metadata": {
    "collapsed": false
   },
   "outputs": [],
   "source": [
    "ana = df_merged[['id','name_x','high_concept','product_desc','launch_date','created_at',\n",
    "                 'follower_count','quality','company_size','twitter','linkedin','facebook',\n",
    "                 'website','blog','discount','equity_basis','pre_money_valuation',\n",
    "                 'raised_amount',\n",
    "                 'round_opened_at','raising_amount']]"
   ]
  },
  {
   "cell_type": "code",
   "execution_count": 299,
   "metadata": {
    "collapsed": false
   },
   "outputs": [],
   "source": [
    "del indiv"
   ]
  },
  {
   "cell_type": "code",
   "execution_count": 300,
   "metadata": {
    "collapsed": false
   },
   "outputs": [],
   "source": [
    "del fund"
   ]
  },
  {
   "cell_type": "code",
   "execution_count": 301,
   "metadata": {
    "collapsed": false
   },
   "outputs": [],
   "source": [
    "del df_merged"
   ]
  },
  {
   "cell_type": "code",
   "execution_count": 302,
   "metadata": {
    "collapsed": false
   },
   "outputs": [
    {
     "data": {
      "text/html": [
       "<div style=\"max-height:1000px;max-width:1500px;overflow:auto;\">\n",
       "<table border=\"1\" class=\"dataframe\">\n",
       "  <thead>\n",
       "    <tr style=\"text-align: right;\">\n",
       "      <th></th>\n",
       "      <th>id</th>\n",
       "      <th>name_x</th>\n",
       "      <th>high_concept</th>\n",
       "      <th>product_desc</th>\n",
       "      <th>launch_date</th>\n",
       "      <th>created_at</th>\n",
       "      <th>follower_count</th>\n",
       "      <th>quality</th>\n",
       "      <th>company_size</th>\n",
       "      <th>twitter</th>\n",
       "      <th>linkedin</th>\n",
       "      <th>facebook</th>\n",
       "      <th>website</th>\n",
       "      <th>blog</th>\n",
       "      <th>discount</th>\n",
       "      <th>equity_basis</th>\n",
       "      <th>pre_money_valuation</th>\n",
       "      <th>raised_amount</th>\n",
       "      <th>round_opened_at</th>\n",
       "      <th>raising_amount</th>\n",
       "    </tr>\n",
       "  </thead>\n",
       "  <tbody>\n",
       "    <tr>\n",
       "      <th>0</th>\n",
       "      <td> 389582</td>\n",
       "      <td>     CoffeetheApp</td>\n",
       "      <td>                  Professional Networking for Jobs</td>\n",
       "      <td> Coffeetheapp is a mobile community of hiring m...</td>\n",
       "      <td> 2014-07-01</td>\n",
       "      <td> 2014-04-29T20:07:33Z</td>\n",
       "      <td> 48</td>\n",
       "      <td> 4</td>\n",
       "      <td> 1-10</td>\n",
       "      <td> True</td>\n",
       "      <td>  True</td>\n",
       "      <td>  True</td>\n",
       "      <td> True</td>\n",
       "      <td> False</td>\n",
       "      <td>NaN</td>\n",
       "      <td> equity</td>\n",
       "      <td> 3000000</td>\n",
       "      <td>     0</td>\n",
       "      <td> 2014-12-15</td>\n",
       "      <td> 250000</td>\n",
       "    </tr>\n",
       "    <tr>\n",
       "      <th>1</th>\n",
       "      <td> 293071</td>\n",
       "      <td>     Wear My Tags</td>\n",
       "      <td>                       Fashion Sourcing Made Easy!</td>\n",
       "      <td> WearMyTags.com solves the fashion/apparel indu...</td>\n",
       "      <td> 2014-07-01</td>\n",
       "      <td> 2013-11-11T23:09:59Z</td>\n",
       "      <td> 97</td>\n",
       "      <td> 6</td>\n",
       "      <td> 1-10</td>\n",
       "      <td> True</td>\n",
       "      <td> False</td>\n",
       "      <td> False</td>\n",
       "      <td> True</td>\n",
       "      <td> False</td>\n",
       "      <td>NaN</td>\n",
       "      <td> equity</td>\n",
       "      <td>     NaN</td>\n",
       "      <td>     0</td>\n",
       "      <td> 2014-12-14</td>\n",
       "      <td> 750000</td>\n",
       "    </tr>\n",
       "    <tr>\n",
       "      <th>2</th>\n",
       "      <td> 235684</td>\n",
       "      <td> The Cherry Share</td>\n",
       "      <td> your way to find the healthiest and best price...</td>\n",
       "      <td> The Cherry Share is a mobile and web applicati...</td>\n",
       "      <td> 2012-06-01</td>\n",
       "      <td> 2013-07-17T11:31:00Z</td>\n",
       "      <td> 36</td>\n",
       "      <td> 5</td>\n",
       "      <td> 1-10</td>\n",
       "      <td> True</td>\n",
       "      <td> False</td>\n",
       "      <td>  True</td>\n",
       "      <td> True</td>\n",
       "      <td>  True</td>\n",
       "      <td>NaN</td>\n",
       "      <td> equity</td>\n",
       "      <td> 3000000</td>\n",
       "      <td> 91000</td>\n",
       "      <td> 2014-12-14</td>\n",
       "      <td> 400000</td>\n",
       "    </tr>\n",
       "    <tr>\n",
       "      <th>3</th>\n",
       "      <td> 144128</td>\n",
       "      <td>      Vidinterest</td>\n",
       "      <td>      Online Video Discovery &amp; Promotion Platform </td>\n",
       "      <td> Vidinterest lets you discover and create priva...</td>\n",
       "      <td> 2012-06-01</td>\n",
       "      <td> 2012-12-05T11:47:08Z</td>\n",
       "      <td> 19</td>\n",
       "      <td> 4</td>\n",
       "      <td> 1-10</td>\n",
       "      <td> True</td>\n",
       "      <td> False</td>\n",
       "      <td>  True</td>\n",
       "      <td> True</td>\n",
       "      <td>  True</td>\n",
       "      <td>NaN</td>\n",
       "      <td> equity</td>\n",
       "      <td> 1000000</td>\n",
       "      <td>     0</td>\n",
       "      <td> 2014-12-12</td>\n",
       "      <td> 100000</td>\n",
       "    </tr>\n",
       "    <tr>\n",
       "      <th>4</th>\n",
       "      <td> 355204</td>\n",
       "      <td>   UberOnTime.com</td>\n",
       "      <td>                                 On Demand Postman</td>\n",
       "      <td> On-demand postman delivers packages locally.  ...</td>\n",
       "      <td> 2014-06-01</td>\n",
       "      <td> 2014-03-05T18:58:10Z</td>\n",
       "      <td>  5</td>\n",
       "      <td> 4</td>\n",
       "      <td> 1-10</td>\n",
       "      <td> True</td>\n",
       "      <td> False</td>\n",
       "      <td> False</td>\n",
       "      <td> True</td>\n",
       "      <td>  True</td>\n",
       "      <td>NaN</td>\n",
       "      <td> equity</td>\n",
       "      <td> 1000000</td>\n",
       "      <td>     0</td>\n",
       "      <td> 2014-12-11</td>\n",
       "      <td> 100000</td>\n",
       "    </tr>\n",
       "  </tbody>\n",
       "</table>\n",
       "</div>"
      ],
      "text/plain": [
       "       id            name_x  \\\n",
       "0  389582      CoffeetheApp   \n",
       "1  293071      Wear My Tags   \n",
       "2  235684  The Cherry Share   \n",
       "3  144128       Vidinterest   \n",
       "4  355204    UberOnTime.com   \n",
       "\n",
       "                                        high_concept  \\\n",
       "0                   Professional Networking for Jobs   \n",
       "1                        Fashion Sourcing Made Easy!   \n",
       "2  your way to find the healthiest and best price...   \n",
       "3       Online Video Discovery & Promotion Platform    \n",
       "4                                  On Demand Postman   \n",
       "\n",
       "                                        product_desc launch_date  \\\n",
       "0  Coffeetheapp is a mobile community of hiring m...  2014-07-01   \n",
       "1  WearMyTags.com solves the fashion/apparel indu...  2014-07-01   \n",
       "2  The Cherry Share is a mobile and web applicati...  2012-06-01   \n",
       "3  Vidinterest lets you discover and create priva...  2012-06-01   \n",
       "4  On-demand postman delivers packages locally.  ...  2014-06-01   \n",
       "\n",
       "             created_at  follower_count  quality company_size twitter  \\\n",
       "0  2014-04-29T20:07:33Z              48        4         1-10    True   \n",
       "1  2013-11-11T23:09:59Z              97        6         1-10    True   \n",
       "2  2013-07-17T11:31:00Z              36        5         1-10    True   \n",
       "3  2012-12-05T11:47:08Z              19        4         1-10    True   \n",
       "4  2014-03-05T18:58:10Z               5        4         1-10    True   \n",
       "\n",
       "  linkedin facebook website   blog  discount equity_basis  \\\n",
       "0     True     True    True  False       NaN       equity   \n",
       "1    False    False    True  False       NaN       equity   \n",
       "2    False     True    True   True       NaN       equity   \n",
       "3    False     True    True   True       NaN       equity   \n",
       "4    False    False    True   True       NaN       equity   \n",
       "\n",
       "   pre_money_valuation  raised_amount round_opened_at  raising_amount  \n",
       "0              3000000              0      2014-12-15          250000  \n",
       "1                  NaN              0      2014-12-14          750000  \n",
       "2              3000000          91000      2014-12-14          400000  \n",
       "3              1000000              0      2014-12-12          100000  \n",
       "4              1000000              0      2014-12-11          100000  "
      ]
     },
     "execution_count": 302,
     "metadata": {},
     "output_type": "execute_result"
    }
   ],
   "source": [
    "ana.head()"
   ]
  },
  {
   "cell_type": "code",
   "execution_count": 207,
   "metadata": {
    "collapsed": false
   },
   "outputs": [
    {
     "data": {
      "text/plain": [
       "Index([u'id', u'name_x', u'high_concept', u'product_desc', u'launch_date', u'created_at', u'follower_count', u'quality', u'company_size', u'twitter', u'linkedin', u'facebook', u'website', u'blog', u'discount', u'equity_basis', u'pre_money_valuation', u'raised_amount', u'round_opened_at', u'raising_amount'], dtype='object')"
      ]
     },
     "execution_count": 207,
     "metadata": {},
     "output_type": "execute_result"
    }
   ],
   "source": [
    "ana.columns"
   ]
  },
  {
   "cell_type": "code",
   "execution_count": 155,
   "metadata": {
    "collapsed": false
   },
   "outputs": [],
   "source": [
    "#create precentage_raised column = raised_amount/raising_amount"
   ]
  },
  {
   "cell_type": "code",
   "execution_count": 303,
   "metadata": {
    "collapsed": false
   },
   "outputs": [],
   "source": [
    "ana['percentage_raised'] = 100*ana['raised_amount']/ana['raising_amount']"
   ]
  },
  {
   "cell_type": "code",
   "execution_count": 159,
   "metadata": {
    "collapsed": false
   },
   "outputs": [],
   "source": [
    "#response variable can be = percentage_raised or, for classifier, percentage_raised > 0; \n",
    "# =0; > 100 (if we want three categories)"
   ]
  },
  {
   "cell_type": "code",
   "execution_count": 34,
   "metadata": {
    "collapsed": false
   },
   "outputs": [],
   "source": [
    "#now get column \"days since round open\" and column \"days since launched\""
   ]
  },
  {
   "cell_type": "markdown",
   "metadata": {},
   "source": [
    "#First need to parse strings into datetime objects and then apply the delta operator for temporal difference between two datetime objects"
   ]
  },
  {
   "cell_type": "markdown",
   "metadata": {},
   "source": [
    "#use the pandas to_datetime; NaT is (not a time) for missing data"
   ]
  },
  {
   "cell_type": "code",
   "execution_count": 304,
   "metadata": {
    "collapsed": false
   },
   "outputs": [],
   "source": [
    "launch_d=pd.to_datetime(ana['launch_date'])"
   ]
  },
  {
   "cell_type": "code",
   "execution_count": 305,
   "metadata": {
    "collapsed": false
   },
   "outputs": [],
   "source": [
    "created = pd.to_datetime(ana['created_at'])"
   ]
  },
  {
   "cell_type": "code",
   "execution_count": 306,
   "metadata": {
    "collapsed": false
   },
   "outputs": [],
   "source": [
    "d = pd.to_datetime(ana['round_opened_at'])"
   ]
  },
  {
   "cell_type": "code",
   "execution_count": 307,
   "metadata": {
    "collapsed": false
   },
   "outputs": [
    {
     "data": {
      "text/plain": [
       "0   2014-12-15\n",
       "1   2014-12-14\n",
       "2   2014-12-14\n",
       "3   2014-12-12\n",
       "4   2014-12-11\n",
       "Name: round_opened_at, dtype: datetime64[ns]"
      ]
     },
     "execution_count": 307,
     "metadata": {},
     "output_type": "execute_result"
    }
   ],
   "source": [
    "d.head()"
   ]
  },
  {
   "cell_type": "code",
   "execution_count": 39,
   "metadata": {
    "collapsed": false
   },
   "outputs": [],
   "source": [
    "#today's date"
   ]
  },
  {
   "cell_type": "code",
   "execution_count": 310,
   "metadata": {
    "collapsed": false
   },
   "outputs": [
    {
     "name": "stdout",
     "output_type": "stream",
     "text": [
      "2014-12-17 13:26:35.653000\n"
     ]
    }
   ],
   "source": [
    "from datetime import datetime\n",
    "tod = datetime.now()\n",
    "print tod"
   ]
  },
  {
   "cell_type": "code",
   "execution_count": 58,
   "metadata": {
    "collapsed": false
   },
   "outputs": [],
   "source": [
    "#number of days between now and launch date"
   ]
  },
  {
   "cell_type": "code",
   "execution_count": 311,
   "metadata": {
    "collapsed": false
   },
   "outputs": [],
   "source": [
    "days_since_launch = tod - launch_d\n",
    "days_since_launch.head()"
   ]
  },
  {
   "cell_type": "code",
   "execution_count": null,
   "metadata": {
    "collapsed": false
   },
   "outputs": [],
   "source": [
    "#number of days since raising round opened"
   ]
  },
  {
   "cell_type": "code",
   "execution_count": 313,
   "metadata": {
    "collapsed": false
   },
   "outputs": [
    {
     "data": {
      "text/plain": [
       "0   2 days, 13:26:35.653000\n",
       "1   3 days, 13:26:35.653000\n",
       "2   3 days, 13:26:35.653000\n",
       "3   5 days, 13:26:35.653000\n",
       "4   6 days, 13:26:35.653000\n",
       "Name: round_opened_at, dtype: timedelta64[ns]"
      ]
     },
     "execution_count": 313,
     "metadata": {},
     "output_type": "execute_result"
    }
   ],
   "source": [
    "days_since_round = tod - d\n",
    "days_since_round.head()"
   ]
  },
  {
   "cell_type": "code",
   "execution_count": 220,
   "metadata": {
    "collapsed": false
   },
   "outputs": [],
   "source": [
    "days_since_created = tod - created"
   ]
  },
  {
   "cell_type": "code",
   "execution_count": 72,
   "metadata": {
    "collapsed": false
   },
   "outputs": [],
   "source": [
    "#get the number of days since launch, created and round opened as numbers not timedelta objects"
   ]
  },
  {
   "cell_type": "code",
   "execution_count": 314,
   "metadata": {
    "collapsed": false
   },
   "outputs": [],
   "source": [
    "ana['days_launch'] = days_since_launch.astype('timedelta64[D]')\n",
    "ana['days_r'] = days_since_round.astype('timedelta64[D]')\n",
    "ana['days_created'] = days_since_created.astype('timedelta64[D]')\n"
   ]
  },
  {
   "cell_type": "code",
   "execution_count": 223,
   "metadata": {
    "collapsed": false
   },
   "outputs": [],
   "source": [
    "#Create a temporary local copy of the data for analysis"
   ]
  },
  {
   "cell_type": "code",
   "execution_count": 315,
   "metadata": {
    "collapsed": false
   },
   "outputs": [],
   "source": [
    "ana.to_pickle('ana_pickled')"
   ]
  },
  {
   "cell_type": "code",
   "execution_count": 316,
   "metadata": {
    "collapsed": false
   },
   "outputs": [],
   "source": [
    "del ana"
   ]
  },
  {
   "cell_type": "code",
   "execution_count": 167,
   "metadata": {
    "collapsed": false
   },
   "outputs": [],
   "source": [
    "#load pickle for analysis"
   ]
  },
  {
   "cell_type": "code",
   "execution_count": 2,
   "metadata": {
    "collapsed": false
   },
   "outputs": [],
   "source": [
    "ana = pd.read_pickle('ana_pickled')"
   ]
  },
  {
   "cell_type": "code",
   "execution_count": 84,
   "metadata": {
    "collapsed": false
   },
   "outputs": [],
   "source": [
    "#ANALYTICS"
   ]
  },
  {
   "cell_type": "code",
   "execution_count": 3,
   "metadata": {
    "collapsed": false
   },
   "outputs": [
    {
     "data": {
      "text/html": [
       "<div style=\"max-height:1000px;max-width:1500px;overflow:auto;\">\n",
       "<table border=\"1\" class=\"dataframe\">\n",
       "  <thead>\n",
       "    <tr style=\"text-align: right;\">\n",
       "      <th></th>\n",
       "      <th>id</th>\n",
       "      <th>follower_count</th>\n",
       "      <th>quality</th>\n",
       "      <th>twitter</th>\n",
       "      <th>linkedin</th>\n",
       "      <th>facebook</th>\n",
       "      <th>website</th>\n",
       "      <th>blog</th>\n",
       "      <th>discount</th>\n",
       "      <th>pre_money_valuation</th>\n",
       "      <th>raised_amount</th>\n",
       "      <th>raising_amount</th>\n",
       "      <th>percentage_raised</th>\n",
       "      <th>days_launch</th>\n",
       "      <th>days_r</th>\n",
       "      <th>days_created</th>\n",
       "    </tr>\n",
       "  </thead>\n",
       "  <tbody>\n",
       "    <tr>\n",
       "      <th>count</th>\n",
       "      <td>    400.000000</td>\n",
       "      <td> 400.000000</td>\n",
       "      <td> 400.000000</td>\n",
       "      <td>       400</td>\n",
       "      <td>       400</td>\n",
       "      <td>       400</td>\n",
       "      <td>    400</td>\n",
       "      <td>       400</td>\n",
       "      <td> 53.000000</td>\n",
       "      <td> 2.450000e+02</td>\n",
       "      <td>     400.000000</td>\n",
       "      <td> 4.000000e+02</td>\n",
       "      <td> 400.000000</td>\n",
       "      <td>  128.000000</td>\n",
       "      <td> 400.000000</td>\n",
       "      <td>  200.000000</td>\n",
       "    </tr>\n",
       "    <tr>\n",
       "      <th>mean</th>\n",
       "      <td> 361130.905000</td>\n",
       "      <td>  23.810000</td>\n",
       "      <td>   3.025000</td>\n",
       "      <td>      0.46</td>\n",
       "      <td>    0.1525</td>\n",
       "      <td>    0.2475</td>\n",
       "      <td> 0.9975</td>\n",
       "      <td>    0.2325</td>\n",
       "      <td> 17.849057</td>\n",
       "      <td> 1.668349e+07</td>\n",
       "      <td>   35829.377500</td>\n",
       "      <td> 1.572787e+06</td>\n",
       "      <td>   3.542742</td>\n",
       "      <td>  482.140625</td>\n",
       "      <td> 165.277500</td>\n",
       "      <td>  375.850000</td>\n",
       "    </tr>\n",
       "    <tr>\n",
       "      <th>std</th>\n",
       "      <td>  99434.201323</td>\n",
       "      <td>  73.550923</td>\n",
       "      <td>   1.693086</td>\n",
       "      <td> 0.4990216</td>\n",
       "      <td> 0.3599551</td>\n",
       "      <td> 0.4321001</td>\n",
       "      <td>   0.05</td>\n",
       "      <td> 0.4229551</td>\n",
       "      <td>  8.244803</td>\n",
       "      <td> 2.038386e+08</td>\n",
       "      <td>  228628.002403</td>\n",
       "      <td> 1.126272e+07</td>\n",
       "      <td>  13.780317</td>\n",
       "      <td>  490.235613</td>\n",
       "      <td>  55.494772</td>\n",
       "      <td>  287.841207</td>\n",
       "    </tr>\n",
       "    <tr>\n",
       "      <th>min</th>\n",
       "      <td>   1447.000000</td>\n",
       "      <td>   0.000000</td>\n",
       "      <td>   1.000000</td>\n",
       "      <td>     False</td>\n",
       "      <td>     False</td>\n",
       "      <td>     False</td>\n",
       "      <td>  False</td>\n",
       "      <td>     False</td>\n",
       "      <td>  0.000000</td>\n",
       "      <td> 0.000000e+00</td>\n",
       "      <td>       0.000000</td>\n",
       "      <td> 1.000000e+01</td>\n",
       "      <td>   0.000000</td>\n",
       "      <td> -196.000000</td>\n",
       "      <td>   2.000000</td>\n",
       "      <td>  154.000000</td>\n",
       "    </tr>\n",
       "    <tr>\n",
       "      <th>25%</th>\n",
       "      <td> 346012.500000</td>\n",
       "      <td>   3.000000</td>\n",
       "      <td>   2.000000</td>\n",
       "      <td>         0</td>\n",
       "      <td>         0</td>\n",
       "      <td>         0</td>\n",
       "      <td>      1</td>\n",
       "      <td>         0</td>\n",
       "      <td> 15.000000</td>\n",
       "      <td> 2.500000e+05</td>\n",
       "      <td>       0.000000</td>\n",
       "      <td> 8.000000e+04</td>\n",
       "      <td>   0.000000</td>\n",
       "      <td>  222.250000</td>\n",
       "      <td> 166.750000</td>\n",
       "      <td>  178.000000</td>\n",
       "    </tr>\n",
       "    <tr>\n",
       "      <th>50%</th>\n",
       "      <td> 406998.000000</td>\n",
       "      <td>   5.000000</td>\n",
       "      <td>   3.000000</td>\n",
       "      <td>         0</td>\n",
       "      <td>         0</td>\n",
       "      <td>         0</td>\n",
       "      <td>      1</td>\n",
       "      <td>         0</td>\n",
       "      <td> 20.000000</td>\n",
       "      <td> 1.700000e+06</td>\n",
       "      <td>       0.000000</td>\n",
       "      <td> 2.500000e+05</td>\n",
       "      <td>   0.000000</td>\n",
       "      <td>  350.000000</td>\n",
       "      <td> 187.000000</td>\n",
       "      <td>  231.000000</td>\n",
       "    </tr>\n",
       "    <tr>\n",
       "      <th>75%</th>\n",
       "      <td> 417614.750000</td>\n",
       "      <td>  15.000000</td>\n",
       "      <td>   4.000000</td>\n",
       "      <td>         1</td>\n",
       "      <td>         0</td>\n",
       "      <td>         0</td>\n",
       "      <td>      1</td>\n",
       "      <td>         0</td>\n",
       "      <td> 20.000000</td>\n",
       "      <td> 4.500000e+06</td>\n",
       "      <td>       0.000000</td>\n",
       "      <td> 6.000000e+05</td>\n",
       "      <td>   0.000000</td>\n",
       "      <td>  541.500000</td>\n",
       "      <td> 202.000000</td>\n",
       "      <td>  451.750000</td>\n",
       "    </tr>\n",
       "    <tr>\n",
       "      <th>max</th>\n",
       "      <td> 438675.000000</td>\n",
       "      <td> 863.000000</td>\n",
       "      <td>   9.000000</td>\n",
       "      <td>      True</td>\n",
       "      <td>      True</td>\n",
       "      <td>      True</td>\n",
       "      <td>   True</td>\n",
       "      <td>      True</td>\n",
       "      <td> 40.000000</td>\n",
       "      <td> 3.192118e+09</td>\n",
       "      <td> 3760250.000000</td>\n",
       "      <td> 1.600000e+08</td>\n",
       "      <td> 110.595588</td>\n",
       "      <td> 3272.000000</td>\n",
       "      <td> 215.000000</td>\n",
       "      <td> 1468.000000</td>\n",
       "    </tr>\n",
       "  </tbody>\n",
       "</table>\n",
       "</div>"
      ],
      "text/plain": [
       "                  id  follower_count     quality    twitter   linkedin  \\\n",
       "count     400.000000      400.000000  400.000000        400        400   \n",
       "mean   361130.905000       23.810000    3.025000       0.46     0.1525   \n",
       "std     99434.201323       73.550923    1.693086  0.4990216  0.3599551   \n",
       "min      1447.000000        0.000000    1.000000      False      False   \n",
       "25%    346012.500000        3.000000    2.000000          0          0   \n",
       "50%    406998.000000        5.000000    3.000000          0          0   \n",
       "75%    417614.750000       15.000000    4.000000          1          0   \n",
       "max    438675.000000      863.000000    9.000000       True       True   \n",
       "\n",
       "        facebook website       blog   discount  pre_money_valuation  \\\n",
       "count        400     400        400  53.000000         2.450000e+02   \n",
       "mean      0.2475  0.9975     0.2325  17.849057         1.668349e+07   \n",
       "std    0.4321001    0.05  0.4229551   8.244803         2.038386e+08   \n",
       "min        False   False      False   0.000000         0.000000e+00   \n",
       "25%            0       1          0  15.000000         2.500000e+05   \n",
       "50%            0       1          0  20.000000         1.700000e+06   \n",
       "75%            0       1          0  20.000000         4.500000e+06   \n",
       "max         True    True       True  40.000000         3.192118e+09   \n",
       "\n",
       "        raised_amount  raising_amount  percentage_raised  days_launch  \\\n",
       "count      400.000000    4.000000e+02         400.000000   128.000000   \n",
       "mean     35829.377500    1.572787e+06           3.542742   482.140625   \n",
       "std     228628.002403    1.126272e+07          13.780317   490.235613   \n",
       "min          0.000000    1.000000e+01           0.000000  -196.000000   \n",
       "25%          0.000000    8.000000e+04           0.000000   222.250000   \n",
       "50%          0.000000    2.500000e+05           0.000000   350.000000   \n",
       "75%          0.000000    6.000000e+05           0.000000   541.500000   \n",
       "max    3760250.000000    1.600000e+08         110.595588  3272.000000   \n",
       "\n",
       "           days_r  days_created  \n",
       "count  400.000000    200.000000  \n",
       "mean   165.277500    375.850000  \n",
       "std     55.494772    287.841207  \n",
       "min      2.000000    154.000000  \n",
       "25%    166.750000    178.000000  \n",
       "50%    187.000000    231.000000  \n",
       "75%    202.000000    451.750000  \n",
       "max    215.000000   1468.000000  "
      ]
     },
     "execution_count": 3,
     "metadata": {},
     "output_type": "execute_result"
    }
   ],
   "source": [
    "ana.describe()"
   ]
  },
  {
   "cell_type": "code",
   "execution_count": 319,
   "metadata": {
    "collapsed": false
   },
   "outputs": [
    {
     "data": {
      "text/plain": [
       "count    400.000000\n",
       "mean       3.542742\n",
       "std       13.780317\n",
       "min        0.000000\n",
       "50%        0.000000\n",
       "60%        0.000000\n",
       "65%        0.000000\n",
       "70%        0.000000\n",
       "75%        0.000000\n",
       "80%        0.000000\n",
       "85%        0.000000\n",
       "90%        6.066667\n",
       "95%       22.812500\n",
       "99%       79.207000\n",
       "100%     110.595588\n",
       "max      110.595588\n",
       "dtype: float64"
      ]
     },
     "execution_count": 319,
     "metadata": {},
     "output_type": "execute_result"
    }
   ],
   "source": [
    "ana['percentage_raised'].describe(percentiles=[0.5,0.6,0.65,0.7,0.75,0.80,0.85,0.9,0.95,0.99,1]) "
   ]
  },
  {
   "cell_type": "code",
   "execution_count": 2,
   "metadata": {
    "collapsed": false
   },
   "outputs": [],
   "source": [
    "#it seems that majority did not raise anything, but some raised more than \"raising_amount\";\n",
    "#interesting to see characteristics\n",
    "#for those ones"
   ]
  },
  {
   "cell_type": "code",
   "execution_count": 320,
   "metadata": {
    "collapsed": false
   },
   "outputs": [
    {
     "data": {
      "text/plain": [
       "True     399\n",
       "False      1\n",
       "dtype: int64"
      ]
     },
     "execution_count": 320,
     "metadata": {},
     "output_type": "execute_result"
    }
   ],
   "source": [
    "pd.value_counts(ana['website'])"
   ]
  },
  {
   "cell_type": "code",
   "execution_count": 321,
   "metadata": {
    "collapsed": false
   },
   "outputs": [
    {
     "data": {
      "text/plain": [
       "<matplotlib.axes.AxesSubplot at 0x14a2f4e0>"
      ]
     },
     "execution_count": 321,
     "metadata": {},
     "output_type": "execute_result"
    },
    {
     "data": {
      "image/png": "[encoded data removed]",
      "text/plain": [
       "<matplotlib.figure.Figure at 0x10ced198>"
      ]
     },
     "metadata": {},
     "output_type": "display_data"
    }
   ],
   "source": [
    "ana['website'].hist(bins = 3)"
   ]
  },
  {
   "cell_type": "code",
   "execution_count": 231,
   "metadata": {
    "collapsed": false
   },
   "outputs": [
    {
     "data": {
      "text/plain": [
       "False    139\n",
       "True      61\n",
       "dtype: int64"
      ]
     },
     "execution_count": 231,
     "metadata": {},
     "output_type": "execute_result"
    }
   ],
   "source": [
    "pd.value_counts(ana['blog'])"
   ]
  },
  {
   "cell_type": "code",
   "execution_count": 232,
   "metadata": {
    "collapsed": false
   },
   "outputs": [
    {
     "data": {
      "text/plain": [
       "<matplotlib.axes.AxesSubplot at 0x10cdc390>"
      ]
     },
     "execution_count": 232,
     "metadata": {},
     "output_type": "execute_result"
    },
    {
     "data": {
      "image/png": "[encoded data removed]",
      "text/plain": [
       "<matplotlib.figure.Figure at 0xabc8668>"
      ]
     },
     "metadata": {},
     "output_type": "display_data"
    }
   ],
   "source": [
    "ana['blog'].hist(bins = 3)"
   ]
  },
  {
   "cell_type": "code",
   "execution_count": 233,
   "metadata": {
    "collapsed": false
   },
   "outputs": [
    {
     "data": {
      "text/plain": [
       "False    156\n",
       "True      44\n",
       "dtype: int64"
      ]
     },
     "execution_count": 233,
     "metadata": {},
     "output_type": "execute_result"
    }
   ],
   "source": [
    "pd.value_counts(ana['linkedin'])"
   ]
  },
  {
   "cell_type": "code",
   "execution_count": 234,
   "metadata": {
    "collapsed": false
   },
   "outputs": [
    {
     "data": {
      "text/plain": [
       "<matplotlib.axes.AxesSubplot at 0x1118b208>"
      ]
     },
     "execution_count": 234,
     "metadata": {},
     "output_type": "execute_result"
    },
    {
     "data": {
      "image/png": "[encoded data removed]",
      "text/plain": [
       "<matplotlib.figure.Figure at 0x11092710>"
      ]
     },
     "metadata": {},
     "output_type": "display_data"
    }
   ],
   "source": [
    "ana['linkedin'].hist(bins = 3)"
   ]
  },
  {
   "cell_type": "code",
   "execution_count": 235,
   "metadata": {
    "collapsed": false
   },
   "outputs": [
    {
     "data": {
      "text/plain": [
       "False    126\n",
       "True      74\n",
       "dtype: int64"
      ]
     },
     "execution_count": 235,
     "metadata": {},
     "output_type": "execute_result"
    }
   ],
   "source": [
    "pd.value_counts(ana['facebook'])"
   ]
  },
  {
   "cell_type": "code",
   "execution_count": 236,
   "metadata": {
    "collapsed": false
   },
   "outputs": [
    {
     "data": {
      "text/plain": [
       "<matplotlib.axes.AxesSubplot at 0x128b2048>"
      ]
     },
     "execution_count": 236,
     "metadata": {},
     "output_type": "execute_result"
    },
    {
     "data": {
      "image/png": "[encoded data removed]",
      "text/plain": [
       "<matplotlib.figure.Figure at 0x128b8860>"
      ]
     },
     "metadata": {},
     "output_type": "display_data"
    }
   ],
   "source": [
    "ana['facebook'].hist(bins = 3)"
   ]
  },
  {
   "cell_type": "code",
   "execution_count": 237,
   "metadata": {
    "collapsed": false
   },
   "outputs": [
    {
     "data": {
      "text/plain": [
       "True     116\n",
       "False     84\n",
       "dtype: int64"
      ]
     },
     "execution_count": 237,
     "metadata": {},
     "output_type": "execute_result"
    }
   ],
   "source": [
    "pd.value_counts(ana['twitter'])"
   ]
  },
  {
   "cell_type": "code",
   "execution_count": 238,
   "metadata": {
    "collapsed": false
   },
   "outputs": [
    {
     "data": {
      "text/plain": [
       "<matplotlib.axes.AxesSubplot at 0x129a29b0>"
      ]
     },
     "execution_count": 238,
     "metadata": {},
     "output_type": "execute_result"
    },
    {
     "data": {
      "image/png": "[encoded data removed]",
      "text/plain": [
       "<matplotlib.figure.Figure at 0x11092b38>"
      ]
     },
     "metadata": {},
     "output_type": "display_data"
    }
   ],
   "source": [
    "ana['twitter'].hist(bins = 3)"
   ]
  },
  {
   "cell_type": "code",
   "execution_count": 24,
   "metadata": {
    "collapsed": false
   },
   "outputs": [],
   "source": [
    "#Visualizations (more)"
   ]
  },
  {
   "cell_type": "code",
   "execution_count": 25,
   "metadata": {
    "collapsed": false
   },
   "outputs": [],
   "source": [
    "#Distribution of percentage raised"
   ]
  },
  {
   "cell_type": "code",
   "execution_count": 322,
   "metadata": {
    "collapsed": false
   },
   "outputs": [
    {
     "data": {
      "text/plain": [
       "<matplotlib.axes.AxesSubplot at 0x14f364e0>"
      ]
     },
     "execution_count": 322,
     "metadata": {},
     "output_type": "execute_result"
    },
    {
     "data": {
      "image/png": "[encoded data removed]",
      "text/plain": [
       "<matplotlib.figure.Figure at 0x149f9b70>"
      ]
     },
     "metadata": {},
     "output_type": "display_data"
    }
   ],
   "source": [
    "ana['percentage_raised'].hist(bins=15)"
   ]
  },
  {
   "cell_type": "code",
   "execution_count": null,
   "metadata": {
    "collapsed": false
   },
   "outputs": [],
   "source": [
    "#percentage raised vs number of days since round open"
   ]
  },
  {
   "cell_type": "code",
   "execution_count": 323,
   "metadata": {
    "collapsed": false
   },
   "outputs": [
    {
     "data": {
      "text/plain": [
       "[<matplotlib.lines.Line2D at 0x15394dd8>]"
      ]
     },
     "execution_count": 323,
     "metadata": {},
     "output_type": "execute_result"
    },
    {
     "data": {
      "image/png": "[encoded data removed]",
      "text/plain": [
       "<matplotlib.figure.Figure at 0x14c03550>"
      ]
     },
     "metadata": {},
     "output_type": "display_data"
    }
   ],
   "source": [
    "plt.plot(ana['days_r'],ana['percentage_raised'],'bo')"
   ]
  },
  {
   "cell_type": "code",
   "execution_count": null,
   "metadata": {
    "collapsed": false
   },
   "outputs": [],
   "source": [
    "#Plot percentage raised( y axis) vs number of days since company launch (x axis)"
   ]
  },
  {
   "cell_type": "code",
   "execution_count": 324,
   "metadata": {
    "collapsed": false
   },
   "outputs": [
    {
     "data": {
      "text/plain": [
       "[<matplotlib.lines.Line2D at 0x153b9860>]"
      ]
     },
     "execution_count": 324,
     "metadata": {},
     "output_type": "execute_result"
    },
    {
     "data": {
      "image/png": "[encoded data removed]",
      "text/plain": [
       "<matplotlib.figure.Figure at 0x14f3e400>"
      ]
     },
     "metadata": {},
     "output_type": "display_data"
    }
   ],
   "source": [
    "plt.plot(ana['days_launch'],ana['percentage_raised'],'bo')"
   ]
  },
  {
   "cell_type": "code",
   "execution_count": 325,
   "metadata": {
    "collapsed": false
   },
   "outputs": [
    {
     "data": {
      "text/plain": [
       "[<matplotlib.lines.Line2D at 0x156eb748>]"
      ]
     },
     "execution_count": 325,
     "metadata": {},
     "output_type": "execute_result"
    },
    {
     "data": {
      "image/png": "[encoded data removed]",
      "text/plain": [
       "<matplotlib.figure.Figure at 0x14be0400>"
      ]
     },
     "metadata": {},
     "output_type": "display_data"
    }
   ],
   "source": [
    "plt.plot(ana['days_created'],ana['percentage_raised'],'bo')"
   ]
  },
  {
   "cell_type": "code",
   "execution_count": 99,
   "metadata": {
    "collapsed": false
   },
   "outputs": [],
   "source": [
    "#percentage raised vs quality of the company (variable specific to Angellist site)"
   ]
  },
  {
   "cell_type": "code",
   "execution_count": 326,
   "metadata": {
    "collapsed": false
   },
   "outputs": [
    {
     "data": {
      "text/plain": [
       "[<matplotlib.lines.Line2D at 0x158a3630>]"
      ]
     },
     "execution_count": 326,
     "metadata": {},
     "output_type": "execute_result"
    },
    {
     "data": {
      "image/png": "[encoded data removed]",
      "text/plain": [
       "<matplotlib.figure.Figure at 0x14bf0e48>"
      ]
     },
     "metadata": {},
     "output_type": "display_data"
    }
   ],
   "source": [
    "plt.plot(ana['quality'],ana['percentage_raised'],'bo')"
   ]
  },
  {
   "cell_type": "code",
   "execution_count": 80,
   "metadata": {
    "collapsed": false
   },
   "outputs": [],
   "source": [
    "#percentage raised vs discount of the company (variable specific to Angellist site)"
   ]
  },
  {
   "cell_type": "code",
   "execution_count": 327,
   "metadata": {
    "collapsed": false
   },
   "outputs": [
    {
     "data": {
      "text/plain": [
       "[<matplotlib.lines.Line2D at 0x158ce518>]"
      ]
     },
     "execution_count": 327,
     "metadata": {},
     "output_type": "execute_result"
    },
    {
     "data": {
      "image/png": "[encoded data removed]",
      "text/plain": [
       "<matplotlib.figure.Figure at 0x158a9198>"
      ]
     },
     "metadata": {},
     "output_type": "display_data"
    }
   ],
   "source": [
    "plt.plot(ana['discount'],ana['percentage_raised'],'bo')"
   ]
  },
  {
   "cell_type": "code",
   "execution_count": 328,
   "metadata": {
    "collapsed": false
   },
   "outputs": [
    {
     "data": {
      "text/plain": [
       "[<matplotlib.lines.Line2D at 0x15c6e898>]"
      ]
     },
     "execution_count": 328,
     "metadata": {},
     "output_type": "execute_result"
    },
    {
     "data": {
      "image/png": "[encoded data removed]",
      "text/plain": [
       "<matplotlib.figure.Figure at 0x15c4a908>"
      ]
     },
     "metadata": {},
     "output_type": "display_data"
    }
   ],
   "source": [
    "plt.plot(ana['follower_count'],ana['percentage_raised'],'bo')"
   ]
  },
  {
   "cell_type": "code",
   "execution_count": 329,
   "metadata": {
    "collapsed": false
   },
   "outputs": [],
   "source": [
    "pre_m = ana['pre_money_valuation']/1000"
   ]
  },
  {
   "cell_type": "code",
   "execution_count": 330,
   "metadata": {
    "collapsed": false
   },
   "outputs": [
    {
     "data": {
      "text/plain": [
       "count        245.000000\n",
       "mean       16683.489216\n",
       "std       203838.602312\n",
       "min            0.000000\n",
       "25%          250.000000\n",
       "50%         1700.000000\n",
       "75%         4500.000000\n",
       "max      3192118.227000\n",
       "dtype: float64"
      ]
     },
     "execution_count": 330,
     "metadata": {},
     "output_type": "execute_result"
    }
   ],
   "source": [
    "pre_m.describe()"
   ]
  },
  {
   "cell_type": "code",
   "execution_count": 335,
   "metadata": {
    "collapsed": false
   },
   "outputs": [],
   "source": [
    "p1 = ana['pre_money_valuation'] < 3000000"
   ]
  },
  {
   "cell_type": "code",
   "execution_count": 336,
   "metadata": {
    "collapsed": false
   },
   "outputs": [],
   "source": [
    "pre_m_lower = ana[p1]['pre_money_valuation']"
   ]
  },
  {
   "cell_type": "code",
   "execution_count": 337,
   "metadata": {
    "collapsed": false
   },
   "outputs": [
    {
     "data": {
      "text/plain": [
       "count        160.00000\n",
       "mean      855041.44375\n",
       "std       847131.43358\n",
       "min            0.00000\n",
       "25%        50000.00000\n",
       "50%       600000.00000\n",
       "75%      1500000.00000\n",
       "max      2800000.00000\n",
       "dtype: float64"
      ]
     },
     "execution_count": 337,
     "metadata": {},
     "output_type": "execute_result"
    }
   ],
   "source": [
    "pre_m_lower.describe()"
   ]
  },
  {
   "cell_type": "code",
   "execution_count": 338,
   "metadata": {
    "collapsed": false
   },
   "outputs": [
    {
     "data": {
      "text/plain": [
       "<matplotlib.axes.AxesSubplot at 0x15f867b8>"
      ]
     },
     "execution_count": 338,
     "metadata": {},
     "output_type": "execute_result"
    },
    {
     "data": {
      "image/png": "[encoded data removed]",
      "text/plain": [
       "<matplotlib.figure.Figure at 0x15f89470>"
      ]
     },
     "metadata": {},
     "output_type": "display_data"
    }
   ],
   "source": [
    "pre_m_lower.hist(bins=15)"
   ]
  },
  {
   "cell_type": "code",
   "execution_count": 339,
   "metadata": {
    "collapsed": false
   },
   "outputs": [
    {
     "data": {
      "text/plain": [
       "[<matplotlib.lines.Line2D at 0x163a86d8>]"
      ]
     },
     "execution_count": 339,
     "metadata": {},
     "output_type": "execute_result"
    },
    {
     "data": {
      "image/png": "[encoded data removed]",
      "text/plain": [
       "<matplotlib.figure.Figure at 0x15c75438>"
      ]
     },
     "metadata": {},
     "output_type": "display_data"
    }
   ],
   "source": [
    "plt.plot(ana[p1]['pre_money_valuation'],ana[p1]['percentage_raised'],'bo')"
   ]
  },
  {
   "cell_type": "code",
   "execution_count": 340,
   "metadata": {
    "collapsed": false
   },
   "outputs": [
    {
     "data": {
      "text/plain": [
       "[<matplotlib.lines.Line2D at 0x16696518>]"
      ]
     },
     "execution_count": 340,
     "metadata": {},
     "output_type": "execute_result"
    },
    {
     "data": {
      "image/png": "[encoded data removed]",
      "text/plain": [
       "<matplotlib.figure.Figure at 0x163b6a20>"
      ]
     },
     "metadata": {},
     "output_type": "display_data"
    }
   ],
   "source": [
    "plt.plot(ana['website'],ana['percentage_raised'],'bo')"
   ]
  },
  {
   "cell_type": "code",
   "execution_count": 341,
   "metadata": {
    "collapsed": false
   },
   "outputs": [
    {
     "data": {
      "text/plain": [
       "[<matplotlib.lines.Line2D at 0x166bdf28>]"
      ]
     },
     "execution_count": 341,
     "metadata": {},
     "output_type": "execute_result"
    },
    {
     "data": {
      "image/png": "[encoded data removed]",
      "text/plain": [
       "<matplotlib.figure.Figure at 0x166a29b0>"
      ]
     },
     "metadata": {},
     "output_type": "display_data"
    }
   ],
   "source": [
    "plt.plot(ana['facebook'],ana['percentage_raised'],'bo')"
   ]
  },
  {
   "cell_type": "code",
   "execution_count": 342,
   "metadata": {
    "collapsed": false
   },
   "outputs": [
    {
     "data": {
      "text/plain": [
       "[<matplotlib.lines.Line2D at 0x169b4978>]"
      ]
     },
     "execution_count": 342,
     "metadata": {},
     "output_type": "execute_result"
    },
    {
     "data": {
      "image/png": "[encoded data removed]",
      "text/plain": [
       "<matplotlib.figure.Figure at 0x16999da0>"
      ]
     },
     "metadata": {},
     "output_type": "display_data"
    }
   ],
   "source": [
    "plt.plot(ana['linkedin'],ana['percentage_raised'],'bo')"
   ]
  },
  {
   "cell_type": "code",
   "execution_count": 344,
   "metadata": {
    "collapsed": false
   },
   "outputs": [
    {
     "data": {
      "text/plain": [
       "[<matplotlib.lines.Line2D at 0x16c7fda0>]"
      ]
     },
     "execution_count": 344,
     "metadata": {},
     "output_type": "execute_result"
    },
    {
     "data": {
      "image/png": "[encoded data removed]",
      "text/plain": [
       "<matplotlib.figure.Figure at 0x16c63ef0>"
      ]
     },
     "metadata": {},
     "output_type": "display_data"
    }
   ],
   "source": [
    "plt.plot(ana['blog'],ana['percentage_raised'],'bo')"
   ]
  },
  {
   "cell_type": "code",
   "execution_count": 345,
   "metadata": {
    "collapsed": false
   },
   "outputs": [
    {
     "data": {
      "text/plain": [
       "[<matplotlib.lines.Line2D at 0x16f827f0>]"
      ]
     },
     "execution_count": 345,
     "metadata": {},
     "output_type": "execute_result"
    },
    {
     "data": {
      "image/png": "[encoded data removed]",
      "text/plain": [
       "<matplotlib.figure.Figure at 0x16f65f28>"
      ]
     },
     "metadata": {},
     "output_type": "display_data"
    }
   ],
   "source": [
    "plt.plot(ana['twitter'],ana['percentage_raised'],'bo')"
   ]
  },
  {
   "cell_type": "code",
   "execution_count": 109,
   "metadata": {
    "collapsed": false
   },
   "outputs": [],
   "source": [
    "#Create the boolean variable raise = 0 if the company raised 0% and raise = 1 if the company raised more than 0%; "
   ]
  },
  {
   "cell_type": "code",
   "execution_count": 346,
   "metadata": {
    "collapsed": false
   },
   "outputs": [],
   "source": [
    "target = ana['percentage_raised'] > 0"
   ]
  },
  {
   "cell_type": "code",
   "execution_count": 114,
   "metadata": {
    "collapsed": false
   },
   "outputs": [],
   "source": [
    "#Implement a logistic regression classification algorithm to see how well we can use \n",
    "#the following features to predict if the company will raise something or nothing"
   ]
  },
  {
   "cell_type": "code",
   "execution_count": 115,
   "metadata": {
    "collapsed": false
   },
   "outputs": [],
   "source": [
    "#Use Scikit-Learn Python libraries for model implementation"
   ]
  },
  {
   "cell_type": "code",
   "execution_count": 347,
   "metadata": {
    "collapsed": false
   },
   "outputs": [],
   "source": [
    "from sklearn.linear_model import LogisticRegression\n",
    "from sklearn import metrics"
   ]
  },
  {
   "cell_type": "code",
   "execution_count": 117,
   "metadata": {
    "collapsed": false
   },
   "outputs": [],
   "source": [
    "#We know the true classification for our data; will first create another dataset with the \n",
    "#features of interest \n",
    "#and then take a train and test set"
   ]
  },
  {
   "cell_type": "code",
   "execution_count": 348,
   "metadata": {
    "collapsed": false
   },
   "outputs": [],
   "source": [
    "features = ['website', 'blog' , 'linkedin', 'facebook', 'twitter','days_launch','days_created',\n",
    "            'days_r','follower_count','quality']"
   ]
  },
  {
   "cell_type": "code",
   "execution_count": 349,
   "metadata": {
    "collapsed": false
   },
   "outputs": [],
   "source": [
    "data = ana[features]"
   ]
  },
  {
   "cell_type": "code",
   "execution_count": 350,
   "metadata": {
    "collapsed": false
   },
   "outputs": [],
   "source": [
    "del ana"
   ]
  },
  {
   "cell_type": "code",
   "execution_count": 124,
   "metadata": {
    "collapsed": false
   },
   "outputs": [],
   "source": [
    "#Create test and train set"
   ]
  },
  {
   "cell_type": "code",
   "execution_count": 351,
   "metadata": {
    "collapsed": false
   },
   "outputs": [],
   "source": [
    "from sklearn.cross_validation import train_test_split"
   ]
  },
  {
   "cell_type": "code",
   "execution_count": 352,
   "metadata": {
    "collapsed": false
   },
   "outputs": [],
   "source": [
    "X_train, X_test, y_train, y_test = train_test_split(data, target, test_size=0.25, \n",
    "                                                    random_state=33)"
   ]
  },
  {
   "cell_type": "code",
   "execution_count": 353,
   "metadata": {
    "collapsed": false
   },
   "outputs": [],
   "source": [
    "del data"
   ]
  },
  {
   "cell_type": "code",
   "execution_count": 354,
   "metadata": {
    "collapsed": false
   },
   "outputs": [],
   "source": [
    "del target"
   ]
  },
  {
   "cell_type": "code",
   "execution_count": 355,
   "metadata": {
    "collapsed": false
   },
   "outputs": [
    {
     "data": {
      "text/plain": [
       "((300L, 10L), (300L,))"
      ]
     },
     "execution_count": 355,
     "metadata": {},
     "output_type": "execute_result"
    }
   ],
   "source": [
    "X_train.shape, y_train.shape"
   ]
  },
  {
   "cell_type": "code",
   "execution_count": 356,
   "metadata": {
    "collapsed": false
   },
   "outputs": [
    {
     "data": {
      "text/plain": [
       "((100L, 10L), (100L,))"
      ]
     },
     "execution_count": 356,
     "metadata": {},
     "output_type": "execute_result"
    }
   ],
   "source": [
    "X_test.shape, y_test.shape"
   ]
  },
  {
   "cell_type": "code",
   "execution_count": 135,
   "metadata": {
    "collapsed": false
   },
   "outputs": [],
   "source": [
    "#fit classification model with training data; first deal with missing values"
   ]
  },
  {
   "cell_type": "code",
   "execution_count": 357,
   "metadata": {
    "collapsed": false
   },
   "outputs": [],
   "source": [
    "from sklearn.preprocessing import Imputer\n",
    "imp = Imputer(missing_values='NaN', strategy='mean', axis=0)"
   ]
  },
  {
   "cell_type": "code",
   "execution_count": 358,
   "metadata": {
    "collapsed": false
   },
   "outputs": [
    {
     "data": {
      "text/plain": [
       "Imputer(axis=0, copy=True, missing_values='NaN', strategy='mean', verbose=0)"
      ]
     },
     "execution_count": 358,
     "metadata": {},
     "output_type": "execute_result"
    }
   ],
   "source": [
    "imp.fit(X_train)"
   ]
  },
  {
   "cell_type": "code",
   "execution_count": 359,
   "metadata": {
    "collapsed": false
   },
   "outputs": [],
   "source": [
    "X_train_imp = imp.transform(X_train)"
   ]
  },
  {
   "cell_type": "code",
   "execution_count": 360,
   "metadata": {
    "collapsed": false
   },
   "outputs": [],
   "source": [
    "del X_train"
   ]
  },
  {
   "cell_type": "code",
   "execution_count": 361,
   "metadata": {
    "collapsed": false
   },
   "outputs": [],
   "source": [
    "model = LogisticRegression()\n",
    "m = model.fit(X_train_imp, y_train)"
   ]
  },
  {
   "cell_type": "code",
   "execution_count": 362,
   "metadata": {
    "collapsed": false
   },
   "outputs": [
    {
     "data": {
      "text/plain": [
       "LogisticRegression(C=1.0, class_weight=None, dual=False, fit_intercept=True,\n",
       "          intercept_scaling=1, penalty='l2', random_state=None, tol=0.0001)"
      ]
     },
     "execution_count": 362,
     "metadata": {},
     "output_type": "execute_result"
    }
   ],
   "source": [
    "m"
   ]
  },
  {
   "cell_type": "code",
   "execution_count": 363,
   "metadata": {
    "collapsed": false
   },
   "outputs": [
    {
     "data": {
      "text/plain": [
       "array([[ -1.18947911e+00,   1.71814396e-01,   5.61057452e-01,\n",
       "          1.02474909e-01,   3.86547994e-01,   1.83987118e-04,\n",
       "         -1.65509435e-03,  -6.27958267e-03,   1.07225575e-02,\n",
       "          3.36200353e-01]])"
      ]
     },
     "execution_count": 363,
     "metadata": {},
     "output_type": "execute_result"
    }
   ],
   "source": [
    "m.coef_"
   ]
  },
  {
   "cell_type": "code",
   "execution_count": 364,
   "metadata": {
    "collapsed": false
   },
   "outputs": [
    {
     "data": {
      "text/plain": [
       "array([[ 0.30437977,  1.18745742,  1.75252473,  1.1079095 ,  1.47189104,\n",
       "         1.000184  ,  0.99834627,  0.99374009,  1.01078025,  1.39961942]])"
      ]
     },
     "execution_count": 364,
     "metadata": {},
     "output_type": "execute_result"
    }
   ],
   "source": [
    "exp(m.coef_) #exponential of coefficients is odds of increase in probability\n",
    "# of raising due to increase in one of the features"
   ]
  },
  {
   "cell_type": "code",
   "execution_count": 152,
   "metadata": {
    "collapsed": false
   },
   "outputs": [],
   "source": [
    "#Can look at the relative importance of features through their odds ratios (can eyeball)\n",
    "#features = ['website', 'blog' , 'linkedin', 'facebook', 'twitter','days_launch','days_created',\n",
    "# 'days_r','follower_count','quality']"
   ]
  },
  {
   "cell_type": "code",
   "execution_count": 365,
   "metadata": {
    "collapsed": false
   },
   "outputs": [],
   "source": [
    "# make predictions using train data\n",
    "predicted = m.predict(X_train_imp)"
   ]
  },
  {
   "cell_type": "code",
   "execution_count": 366,
   "metadata": {
    "collapsed": false
   },
   "outputs": [
    {
     "name": "stdout",
     "output_type": "stream",
     "text": [
      "             precision    recall  f1-score   support\n",
      "\n",
      "      False       0.90      0.98      0.94       261\n",
      "       True       0.62      0.26      0.36        39\n",
      "\n",
      "avg / total       0.86      0.88      0.86       300\n",
      "\n",
      "[[255   6]\n",
      " [ 29  10]]\n"
     ]
    }
   ],
   "source": [
    "# summarize the fit of the model using train data\n",
    "print(metrics.classification_report(y_train, predicted))\n",
    "print(metrics.confusion_matrix(y_train, predicted))"
   ]
  },
  {
   "cell_type": "code",
   "execution_count": 367,
   "metadata": {
    "collapsed": false
   },
   "outputs": [],
   "source": [
    "# imput test data; using imputation means from train data\n",
    "X_test_imp = imp.transform(X_test)"
   ]
  },
  {
   "cell_type": "code",
   "execution_count": 368,
   "metadata": {
    "collapsed": false
   },
   "outputs": [],
   "source": [
    "del X_test"
   ]
  },
  {
   "cell_type": "code",
   "execution_count": 369,
   "metadata": {
    "collapsed": false
   },
   "outputs": [],
   "source": [
    "# make predictions using train data\n",
    "predicted = m.predict(X_test_imp)"
   ]
  },
  {
   "cell_type": "code",
   "execution_count": 370,
   "metadata": {
    "collapsed": false
   },
   "outputs": [
    {
     "name": "stdout",
     "output_type": "stream",
     "text": [
      "             precision    recall  f1-score   support\n",
      "\n",
      "      False       0.92      0.98      0.95        89\n",
      "       True       0.60      0.27      0.37        11\n",
      "\n",
      "avg / total       0.88      0.90      0.88       100\n",
      "\n"
     ]
    }
   ],
   "source": [
    "# summarize the fit of the model using test data\n",
    "print(metrics.classification_report(y_test, predicted))\n"
   ]
  },
  {
   "cell_type": "code",
   "execution_count": 371,
   "metadata": {
    "collapsed": false
   },
   "outputs": [
    {
     "name": "stdout",
     "output_type": "stream",
     "text": [
      "[[87  2]\n",
      " [ 8  3]]\n"
     ]
    }
   ],
   "source": [
    "print(metrics.confusion_matrix(y_test, predicted))"
   ]
  },
  {
   "cell_type": "code",
   "execution_count": 372,
   "metadata": {
    "collapsed": false
   },
   "outputs": [
    {
     "data": {
      "text/plain": [
       "0.90000000000000002"
      ]
     },
     "execution_count": 372,
     "metadata": {},
     "output_type": "execute_result"
    }
   ],
   "source": [
    "metrics.accuracy_score(y_test, predicted)"
   ]
  },
  {
   "cell_type": "code",
   "execution_count": null,
   "metadata": {
    "collapsed": false
   },
   "outputs": [],
   "source": []
  }
 ],
 "metadata": {
  "kernelspec": {
   "display_name": "Python 2",
   "language": "python",
   "name": "python2"
  },
  "language_info": {
   "codemirror_mode": {
    "name": "ipython",
    "version": 2
   },
   "file_extension": ".py",
   "mimetype": "text/x-python",
   "name": "python",
   "nbconvert_exporter": "python",
   "pygments_lexer": "ipython2",
   "version": "2.7.11"
  }
 },
 "nbformat": 4,
 "nbformat_minor": 0
}
